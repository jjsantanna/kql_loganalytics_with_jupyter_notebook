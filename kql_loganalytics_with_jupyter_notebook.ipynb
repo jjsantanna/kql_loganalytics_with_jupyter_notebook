{
 "cells": [
  {
   "cell_type": "markdown",
   "metadata": {},
   "source": [
    "# KQL, Log Analytics, Azure Monitor, ApplicationInsights with Jupyter Notebook\n",
    "Great material:\n",
    "- https://hub.gke.mybinder.org/user/microsoft-jupyter-kqlmagic-o6ooaumx/notebooks/notebooks/QuickStartAI.ipynb"
   ]
  },
  {
   "cell_type": "markdown",
   "metadata": {},
   "source": [
    "**Notes:**\n",
    "- Log Analytics, Azure Security Center, Azure Monitor\n",
    "- Azure Data Science Virtual Machine (DSVM): The Ubuntu template of DSVM has an extra bonus: it will open up the right ports by default in your NSG!\n",
    "- PRO TIP: While in the KQL query interface in Azure you’ll be using the double quote character for specifying input, you’ll be using the single quote in Jupyter. Make sure to change your queries so that they work properly in Jupyter."
   ]
  },
  {
   "cell_type": "markdown",
   "metadata": {},
   "source": [
    "**URL to DATA:**\n",
    "- portal.loganalytics.io/demo **FORWARDS TO** portal.azure.com/#blade/Microsoft_Azure_Monitoring_Logs/DemoLogsBlade\n",
    "- appinsights://appid='DEMO_APP';appkey='DEMO_KEY'\n",
    "- dataexplorer.azure.com **FORWARDS TO** dataexplorer.azure.com/clusters/help/databases/Samples **THAT IS LOADED HERE VIA** %kql azureDataExplorer://code;cluster='help';database='Samples' \n",
    "    "
   ]
  },
  {
   "cell_type": "markdown",
   "metadata": {},
   "source": [
    "<h2 align='center'>=======================================================================<br> Installing kqlmagic (https://pypi.org/project/Kqlmagic/) </h2>"
   ]
  },
  {
   "cell_type": "code",
   "execution_count": null,
   "metadata": {},
   "outputs": [],
   "source": [
    "!pip3 install Kqlmagic --no-cache-dir --upgrade"
   ]
  },
  {
   "cell_type": "code",
   "execution_count": null,
   "metadata": {},
   "outputs": [],
   "source": [
    "%reload_ext Kqlmagic"
   ]
  },
  {
   "cell_type": "code",
   "execution_count": 129,
   "metadata": {},
   "outputs": [
    {
     "data": {
      "text/html": [
       "<h2>Overview</h2>\n",
       "<p>Help command is a tool to get more information on a topics that are relevant to Kqlmagic.\n",
       "t\n",
       "usage: <code>%kql --help \"topic\"</code><br></p>\n",
       "<h2>Topics</h2>\n",
       "<ul>\n",
       "<li>\n",
       "<p><strong>usage</strong> - How to use the Kqlmagic.<br>\n",
       "<br></p>\n",
       "</li>\n",
       "<li>\n",
       "<p><strong>faq</strong> - Reference to Kqlmagic FAQ<br>\n",
       "<br></p>\n",
       "</li>\n",
       "<li>\n",
       "<p><strong>conn</strong> - Lists the available connection string variation, and how their are used to authenticatie to data sources.<br>\n",
       "<br></p>\n",
       "</li>\n",
       "<li>\n",
       "<p><strong>query</strong> / <strong>kql</strong> - <a href=\"http://aka.ms/kdocs\">Reference to resources Kusto Query language, aka kql, documentation</a><br>\n",
       "<br></p>\n",
       "</li>\n",
       "<li>\n",
       "<p><strong>options</strong> - Lists the available options, and their behavior impact on the submit query command.<br>\n",
       "<br></p>\n",
       "</li>\n",
       "<li>\n",
       "<p><strong>commands</strong> - Lists the available commands, and what they do.<br>\n",
       "<br></p>\n",
       "</li>\n",
       "<li>\n",
       "<p><strong>proxies</strong> - How to use Kqlmagic via proxies.<br>\n",
       "<br></p>\n",
       "</li>\n",
       "<li>\n",
       "<p><strong>client-request-properties</strong> - How to use Client Request properties, and properties list.<br>\n",
       "<br></p>\n",
       "</li>\n",
       "<li>\n",
       "<p><strong>request-tags</strong> - How to tag request headers.<br>\n",
       "<br></p>\n",
       "</li>\n",
       "<li>\n",
       "<p><strong>AzureMonitor</strong>- <a href=\"https://docs.microsoft.com/en-us/azure/azure-monitor/\">Reference to resources Azure Monitor tools</a><br>\n",
       "Azure Monitor, which now includes Log Analytics and Application Insights, provides sophisticated tools for collecting and analyzing telemetry that allow you to maximize the performance and availability of your cloud and on-premises resources and applications. It helps you understand how your applications are performing and proactively identifies issues affecting them and the resources they depend on.<br>\n",
       "<br></p>\n",
       "</li>\n",
       "<li>\n",
       "<p><strong>AzureDataExplorer</strong> / <strong>kusto</strong>- <a href=\"https://docs.microsoft.com/en-us/azure/data-explorer/\">Reference to resources Azure Data Explorer (kusto) service</a><br>\n",
       "Azure Data Explorer is a fast and highly scalable data exploration service for log and telemetry data. It helps you handle the many data streams emitted by modern software, so you can collect, store, and analyze data. Azure Data Explorer is ideal for analyzing large volumes of diverse data from any data source, such as websites, applications, IoT devices, and more.<br>\n",
       "<br></p>\n",
       "</li>\n",
       "<li>\n",
       "<p><strong>LogAnalytics</strong>- <a href=\"https://docs.microsoft.com/en-us/azure/log-analytics/log-analytics-queries?toc=/azure/azure-monitor/toc.json\">Reference to resources Log Analytics service</a><br>\n",
       "Log data collected by Azure Monitor is stored in Log Analytics which collects telemetry and other data from a variety of sources and provides a query language for advanced analytics.<br>\n",
       "<br></p>\n",
       "</li>\n",
       "<li>\n",
       "<p><strong>ApplicationInsights</strong> / <strong>AppInsights</strong>- <a href=\"https://docs.microsoft.com/en-us/azure/application-insights/app-insights-overview?toc=/azure/azure-monitor/toc.json\">Reference to resources Application Insights service</a><br>\n",
       "Application Insights is an extensible Application Performance Management (APM) service for web developers on multiple platforms. Use it to monitor your live web application. It will automatically detect performance anomalies. It includes powerful analytics tools to help you diagnose issues and to understand what users actually do with your app. It's designed to help you continuously improve performance and usability. It works for apps on a wide variety of platforms including .NET, Node.js and J2EE, hosted on-premises or in the cloud. It integrates with your DevOps process, and has connection points to a variety of development tools. It can monitor and analyze telemetry from mobile apps by integrating with Visual Studio App Center.<br>\n",
       "<br></p>\n",
       "</li>\n",
       "<li>\n",
       "<p><strong>kqlmagic-readme</strong> - <a href=\"https://github.com/microsoft/jupyter-Kqlmagic/blob/master/README.md\">Reference to Kqlmagic readme</a><br>\n",
       "<br></p>\n",
       "</li>\n",
       "<li>\n",
       "<p><strong>kqlmagic-github</strong> - <a href=\"https://github.com/microsoft/jupyter-Kqlmagic\">Reference to Kqlmagic github</a><br>\n",
       "<br></p>\n",
       "</li>\n",
       "<li>\n",
       "<p><strong>kqlmagic-license</strong> - <a href=\"https://github.com/microsoft/jupyter-Kqlmagic/blob/master/LICENSE.TXT\">Reference to Kqlmagic license</a><br>\n",
       "<br></p>\n",
       "</li>\n",
       "<li>\n",
       "<p><strong>kqlmagic-contributors</strong> - <a href=\"https://github.com/microsoft/jupyter-Kqlmagic/blob/master/CONTRIBUTORS.md\">Reference to Kqlmagic contributors</a><br>\n",
       "<br></p>\n",
       "</li>\n",
       "<li>\n",
       "<p><strong>kqlmagic-install</strong> - <a href=\"https://pypi.org/project/Kqlmagic/\">Reference to Kqlmagic pypi install readme</a><br>\n",
       "<br></p>\n",
       "</li>\n",
       "<li>\n",
       "<p><strong>kqlmagic-downloads</strong> - <a href=\"https://pepy.tech/project/Kqlmagic\">Reference to Kqlmagic downloads data</a><br>\n",
       "<br></p>\n",
       "</li>\n",
       "<li>\n",
       "<p><strong>logging</strong> - How to enable logging.<br>\n",
       "<br></p>\n",
       "</li>\n",
       "<li>\n",
       "<p><strong>help</strong> - This help.<br>\n",
       "<br></p>\n",
       "</li>\n",
       "</ul>\n",
       "<h2>Need Support?</h2>\n",
       "<ul>\n",
       "<li><strong>Have a feature request for Kqlmagic?</strong> Please post it on <a href=\"https://feedback.azure.com/forums/913690-azure-monitor\">User Voice</a> to help us prioritize</li>\n",
       "<li><strong>Have a technical question?</strong> Ask on <a href=\"https://stackoverflow.com/questions/tagged/Kqlmagic\">Stack Overflow with tag \"Kqlmagic\"</a></li>\n",
       "<li><strong>Need Support?</strong> Every customer with an active Azure subscription has access to <a href=\"https://docs.microsoft.com/en-us/azure/azure-supportability/how-to-create-azure-support-request\">support</a> with guaranteed response time.  Consider submitting a ticket and get assistance from Microsoft support team</li>\n",
       "<li><strong>Found a bug?</strong> Please help us fix it by thoroughly documenting it and <a href=\"https://github.com/Microsoft/jupyter-Kqlmagic/issues/new\">filing an issue</a>.</li>\n",
       "</ul>"
      ],
      "text/markdown": [
       "## Overview\n",
       "Help command is a tool to get more information on a topics that are relevant to Kqlmagic.\n",
       "t\n",
       "usage: ```%kql --help \"topic\"```<br>\n",
       "\n",
       "## Topics\n",
       "- **usage** - How to use the Kqlmagic.<br>\n",
       "<br>\n",
       "\n",
       "- **faq** - Reference to Kqlmagic FAQ<br>\n",
       "<br>\n",
       "\n",
       "- **conn** - Lists the available connection string variation, and how their are used to authenticatie to data sources.<br>\n",
       "<br>\n",
       "\n",
       "- **query** / **kql** - [Reference to resources Kusto Query language, aka kql, documentation](http://aka.ms/kdocs)<br>\n",
       "<br>\n",
       "\n",
       "- **options** - Lists the available options, and their behavior impact on the submit query command.<br>\n",
       "<br>\n",
       "\n",
       "- **commands** - Lists the available commands, and what they do.<br>\n",
       "<br>\n",
       "\n",
       "- **proxies** - How to use Kqlmagic via proxies.<br>\n",
       "<br>\n",
       "\n",
       "- **client-request-properties** - How to use Client Request properties, and properties list.<br>\n",
       "<br>\n",
       "\n",
       "- **request-tags** - How to tag request headers.<br>\n",
       "<br>\n",
       "\n",
       "- **AzureMonitor**- [Reference to resources Azure Monitor tools](https://docs.microsoft.com/en-us/azure/azure-monitor/)<br>\n",
       "Azure Monitor, which now includes Log Analytics and Application Insights, provides sophisticated tools for collecting and analyzing telemetry that allow you to maximize the performance and availability of your cloud and on-premises resources and applications. It helps you understand how your applications are performing and proactively identifies issues affecting them and the resources they depend on.<br>\n",
       "<br>\n",
       "\n",
       "- **AzureDataExplorer** / **kusto**- [Reference to resources Azure Data Explorer (kusto) service](https://docs.microsoft.com/en-us/azure/data-explorer/)<br>\n",
       "Azure Data Explorer is a fast and highly scalable data exploration service for log and telemetry data. It helps you handle the many data streams emitted by modern software, so you can collect, store, and analyze data. Azure Data Explorer is ideal for analyzing large volumes of diverse data from any data source, such as websites, applications, IoT devices, and more.<br>\n",
       "<br>\n",
       "\n",
       "- **LogAnalytics**- [Reference to resources Log Analytics service](https://docs.microsoft.com/en-us/azure/log-analytics/log-analytics-queries?toc=/azure/azure-monitor/toc.json)<br>\n",
       "Log data collected by Azure Monitor is stored in Log Analytics which collects telemetry and other data from a variety of sources and provides a query language for advanced analytics.<br>\n",
       "<br>\n",
       "\n",
       "- **ApplicationInsights** / **AppInsights**- [Reference to resources Application Insights service](https://docs.microsoft.com/en-us/azure/application-insights/app-insights-overview?toc=/azure/azure-monitor/toc.json)<br>\n",
       "Application Insights is an extensible Application Performance Management (APM) service for web developers on multiple platforms. Use it to monitor your live web application. It will automatically detect performance anomalies. It includes powerful analytics tools to help you diagnose issues and to understand what users actually do with your app. It's designed to help you continuously improve performance and usability. It works for apps on a wide variety of platforms including .NET, Node.js and J2EE, hosted on-premises or in the cloud. It integrates with your DevOps process, and has connection points to a variety of development tools. It can monitor and analyze telemetry from mobile apps by integrating with Visual Studio App Center.<br>\n",
       "<br>\n",
       "\n",
       "- **kqlmagic-readme** - [Reference to Kqlmagic readme](https://github.com/microsoft/jupyter-Kqlmagic/blob/master/README.md)<br>\n",
       "<br>\n",
       "\n",
       "- **kqlmagic-github** - [Reference to Kqlmagic github](https://github.com/microsoft/jupyter-Kqlmagic)<br>\n",
       "<br>\n",
       "\n",
       "- **kqlmagic-license** - [Reference to Kqlmagic license](https://github.com/microsoft/jupyter-Kqlmagic/blob/master/LICENSE.TXT)<br>\n",
       "<br>\n",
       "\n",
       "- **kqlmagic-contributors** - [Reference to Kqlmagic contributors](https://github.com/microsoft/jupyter-Kqlmagic/blob/master/CONTRIBUTORS.md)<br>\n",
       "<br>\n",
       "\n",
       "- **kqlmagic-install** - [Reference to Kqlmagic pypi install readme](https://pypi.org/project/Kqlmagic/)<br>\n",
       "<br>\n",
       "\n",
       "- **kqlmagic-downloads** - [Reference to Kqlmagic downloads data](https://pepy.tech/project/Kqlmagic)<br>\n",
       "<br>\n",
       "\n",
       "- **logging** - How to enable logging.<br>\n",
       "<br>\n",
       "\n",
       "- **help** - This help.<br>\n",
       "<br>\n",
       "\n",
       "## Need Support?\n",
       "- **Have a feature request for Kqlmagic?** Please post it on [User Voice](https://feedback.azure.com/forums/913690-azure-monitor) to help us prioritize\n",
       "- **Have a technical question?** Ask on [Stack Overflow with tag \"Kqlmagic\"](https://stackoverflow.com/questions/tagged/Kqlmagic)\n",
       "- **Need Support?** Every customer with an active Azure subscription has access to [support](https://docs.microsoft.com/en-us/azure/azure-supportability/how-to-create-azure-support-request) with guaranteed response time.  Consider submitting a ticket and get assistance from Microsoft support team\n",
       "- **Found a bug?** Please help us fix it by thoroughly documenting it and [filing an issue](https://github.com/Microsoft/jupyter-Kqlmagic/issues/new).\n"
      ],
      "text/plain": [
       "Overview\n",
       "Help command is a tool to get more information on a topics that are relevant to Kqlmagic.\n",
       "t\n",
       "usage: %kql --help \"topic\"\n",
       "Topics\n",
       "\n",
       "\n",
       "usage - How to use the Kqlmagic.\n",
       "\n",
       "\n",
       "\n",
       "faq - Reference to Kqlmagic FAQ\n",
       "\n",
       "\n",
       "\n",
       "conn - Lists the available connection string variation, and how their are used to authenticatie to data sources.\n",
       "\n",
       "\n",
       "\n",
       "query / kql - Reference to resources Kusto Query language, aka kql, documentation\n",
       "\n",
       "\n",
       "\n",
       "options - Lists the available options, and their behavior impact on the submit query command.\n",
       "\n",
       "\n",
       "\n",
       "commands - Lists the available commands, and what they do.\n",
       "\n",
       "\n",
       "\n",
       "proxies - How to use Kqlmagic via proxies.\n",
       "\n",
       "\n",
       "\n",
       "client-request-properties - How to use Client Request properties, and properties list.\n",
       "\n",
       "\n",
       "\n",
       "request-tags - How to tag request headers.\n",
       "\n",
       "\n",
       "\n",
       "AzureMonitor- Reference to resources Azure Monitor tools\n",
       "Azure Monitor, which now includes Log Analytics and Application Insights, provides sophisticated tools for collecting and analyzing telemetry that allow you to maximize the performance and availability of your cloud and on-premises resources and applications. It helps you understand how your applications are performing and proactively identifies issues affecting them and the resources they depend on.\n",
       "\n",
       "\n",
       "\n",
       "AzureDataExplorer / kusto- Reference to resources Azure Data Explorer (kusto) service\n",
       "Azure Data Explorer is a fast and highly scalable data exploration service for log and telemetry data. It helps you handle the many data streams emitted by modern software, so you can collect, store, and analyze data. Azure Data Explorer is ideal for analyzing large volumes of diverse data from any data source, such as websites, applications, IoT devices, and more.\n",
       "\n",
       "\n",
       "\n",
       "LogAnalytics- Reference to resources Log Analytics service\n",
       "Log data collected by Azure Monitor is stored in Log Analytics which collects telemetry and other data from a variety of sources and provides a query language for advanced analytics.\n",
       "\n",
       "\n",
       "\n",
       "ApplicationInsights / AppInsights- Reference to resources Application Insights service\n",
       "Application Insights is an extensible Application Performance Management (APM) service for web developers on multiple platforms. Use it to monitor your live web application. It will automatically detect performance anomalies. It includes powerful analytics tools to help you diagnose issues and to understand what users actually do with your app. It's designed to help you continuously improve performance and usability. It works for apps on a wide variety of platforms including .NET, Node.js and J2EE, hosted on-premises or in the cloud. It integrates with your DevOps process, and has connection points to a variety of development tools. It can monitor and analyze telemetry from mobile apps by integrating with Visual Studio App Center.\n",
       "\n",
       "\n",
       "\n",
       "kqlmagic-readme - Reference to Kqlmagic readme\n",
       "\n",
       "\n",
       "\n",
       "kqlmagic-github - Reference to Kqlmagic github\n",
       "\n",
       "\n",
       "\n",
       "kqlmagic-license - Reference to Kqlmagic license\n",
       "\n",
       "\n",
       "\n",
       "kqlmagic-contributors - Reference to Kqlmagic contributors\n",
       "\n",
       "\n",
       "\n",
       "kqlmagic-install - Reference to Kqlmagic pypi install readme\n",
       "\n",
       "\n",
       "\n",
       "kqlmagic-downloads - Reference to Kqlmagic downloads data\n",
       "\n",
       "\n",
       "\n",
       "logging - How to enable logging.\n",
       "\n",
       "\n",
       "\n",
       "help - This help.\n",
       "\n",
       "\n",
       "\n",
       "Need Support?\n",
       "\n",
       "Have a feature request for Kqlmagic? Please post it on User Voice to help us prioritize\n",
       "Have a technical question? Ask on Stack Overflow with tag \"Kqlmagic\"\n",
       "Need Support? Every customer with an active Azure subscription has access to support with guaranteed response time.  Consider submitting a ticket and get assistance from Microsoft support team\n",
       "Found a bug? Please help us fix it by thoroughly documenting it and filing an issue."
      ]
     },
     "execution_count": 129,
     "metadata": {},
     "output_type": "execute_result"
    }
   ],
   "source": [
    "%kql --help"
   ]
  },
  {
   "cell_type": "markdown",
   "metadata": {},
   "source": [
    "<h2 align='center'>=======================================================================<br>Tips on KQLMagic </h2>"
   ]
  },
  {
   "cell_type": "markdown",
   "metadata": {},
   "source": [
    "- %kql --help\n",
    "- If you want to go multi-line to make things better readable, you need to use double %. Example:\n",
    "```\n",
    "%kql VMConnection | where Computer == ‘APPSERVER’\n",
    "```\n",
    "**OR**\n",
    "```\n",
    "%%kql\n",
    "VMConnection\n",
    "| where Computer == ‘APPSERVER’\n",
    "connections = _.to_dataframe()\n",
    "```"
   ]
  },
  {
   "cell_type": "markdown",
   "metadata": {},
   "source": [
    "<h2 align='center'>=======================================================================<br>Using a PUBLIC Dataset (with appinsights)</h2>"
   ]
  },
  {
   "cell_type": "code",
   "execution_count": 87,
   "metadata": {},
   "outputs": [],
   "source": [
    "%kql appinsights://appid='DEMO_APP';appkey='DEMO_KEY'"
   ]
  },
  {
   "cell_type": "code",
   "execution_count": 84,
   "metadata": {},
   "outputs": [
    {
     "data": {
      "text/html": [
       "<html>\n",
       "        <head>\n",
       "        \n",
       "        </head>\n",
       "        <body>\n",
       "        <div><p style='padding: 10px; color: #3a87ad; background-color: #d9edf7; border-color: #bce9f1'>&nbsp;&nbsp;&nbsp;7b67a32d-7c90-46f7-8392-7f4c8a784a35@loganalytics<br>&nbsp;*&nbsp;DEMO_APP@applicationinsights<br>&nbsp;&nbsp;&nbsp;Demo@DemoLogsBlade<br>&nbsp;&nbsp;&nbsp;Samples@help</p></div>\n",
       "        </body>\n",
       "        </html>"
      ],
      "text/plain": [
       "<IPython.core.display.HTML object>"
      ]
     },
     "metadata": {},
     "output_type": "display_data"
    },
    {
     "data": {
      "text/html": [
       "<html>\n",
       "        <head>\n",
       "        \n",
       "        </head>\n",
       "        <body>\n",
       "        <table>\n",
       "    <tr>\n",
       "        <th>timestamp</th>\n",
       "        <th>name</th>\n",
       "        <th>itemType</th>\n",
       "        <th>customDimensions</th>\n",
       "        <th>customMeasurements</th>\n",
       "        <th>operation_Name</th>\n",
       "        <th>operation_Id</th>\n",
       "        <th>operation_ParentId</th>\n",
       "        <th>operation_SyntheticSource</th>\n",
       "        <th>session_Id</th>\n",
       "        <th>user_Id</th>\n",
       "        <th>user_AuthenticatedId</th>\n",
       "        <th>user_AccountId</th>\n",
       "        <th>application_Version</th>\n",
       "        <th>client_Type</th>\n",
       "        <th>client_Model</th>\n",
       "        <th>client_OS</th>\n",
       "        <th>client_IP</th>\n",
       "        <th>client_City</th>\n",
       "        <th>client_StateOrProvince</th>\n",
       "        <th>client_CountryOrRegion</th>\n",
       "        <th>client_Browser</th>\n",
       "        <th>cloud_RoleName</th>\n",
       "        <th>cloud_RoleInstance</th>\n",
       "        <th>appId</th>\n",
       "        <th>appName</th>\n",
       "        <th>iKey</th>\n",
       "        <th>sdkVersion</th>\n",
       "        <th>itemId</th>\n",
       "        <th>itemCount</th>\n",
       "    </tr>\n",
       "    <tr>\n",
       "        <td>2020-01-08 10:10:00.025249+00:00</td>\n",
       "        <td>Clicked Assign Ticket Button</td>\n",
       "        <td>customEvent</td>\n",
       "        <td>None</td>\n",
       "        <td>None</td>\n",
       "        <td>/</td>\n",
       "        <td>uE/2I</td>\n",
       "        <td>uE/2I</td>\n",
       "        <td></td>\n",
       "        <td>37ueM</td>\n",
       "        <td>ahj00</td>\n",
       "        <td></td>\n",
       "        <td></td>\n",
       "        <td>1.3.2</td>\n",
       "        <td>Browser</td>\n",
       "        <td></td>\n",
       "        <td>Windows 10</td>\n",
       "        <td>0.0.0.0</td>\n",
       "        <td>Bothell</td>\n",
       "        <td>Washington</td>\n",
       "        <td>United States</td>\n",
       "        <td></td>\n",
       "        <td></td>\n",
       "        <td></td>\n",
       "        <td>cf58dcfd-0683-487c-bc84-048789bca8e5</td>\n",
       "        <td>FabrikamProd</td>\n",
       "        <td>5a2e4e0c-e136-4a15-9824-90ba859b0a89</td>\n",
       "        <td>javascript:1.0.8</td>\n",
       "        <td>086268b0-31ff-11ea-9ef2-879d9c87a3c6</td>\n",
       "        <td>1</td>\n",
       "    </tr>\n",
       "    <tr>\n",
       "        <td>2020-01-08 10:00:00.025249+00:00</td>\n",
       "        <td>Clicked Create New Ticket Button</td>\n",
       "        <td>customEvent</td>\n",
       "        <td>None</td>\n",
       "        <td>None</td>\n",
       "        <td>/</td>\n",
       "        <td>u4hJX</td>\n",
       "        <td>u4hJX</td>\n",
       "        <td></td>\n",
       "        <td>nLNnu</td>\n",
       "        <td>a4g00</td>\n",
       "        <td></td>\n",
       "        <td></td>\n",
       "        <td>1.2.5</td>\n",
       "        <td>Browser</td>\n",
       "        <td></td>\n",
       "        <td>Ubuntu</td>\n",
       "        <td>0.0.0.0</td>\n",
       "        <td>Bothell</td>\n",
       "        <td>Washington</td>\n",
       "        <td>United States</td>\n",
       "        <td></td>\n",
       "        <td></td>\n",
       "        <td></td>\n",
       "        <td>cf58dcfd-0683-487c-bc84-048789bca8e5</td>\n",
       "        <td>FabrikamProd</td>\n",
       "        <td>5a2e4e0c-e136-4a15-9824-90ba859b0a89</td>\n",
       "        <td>javascript:1.0.8</td>\n",
       "        <td>086241a0-31ff-11ea-90b5-abd7ae200409</td>\n",
       "        <td>1</td>\n",
       "    </tr>\n",
       "    <tr>\n",
       "        <td>2020-01-08 10:10:00.634645+00:00</td>\n",
       "        <td>Clicked Create New Ticket Button</td>\n",
       "        <td>customEvent</td>\n",
       "        <td>None</td>\n",
       "        <td>None</td>\n",
       "        <td>/</td>\n",
       "        <td>qKCwN</td>\n",
       "        <td>qKCwN</td>\n",
       "        <td></td>\n",
       "        <td>5RDaa</td>\n",
       "        <td>cJA00</td>\n",
       "        <td></td>\n",
       "        <td></td>\n",
       "        <td>1.2.6</td>\n",
       "        <td>Browser</td>\n",
       "        <td></td>\n",
       "        <td>Windows 10</td>\n",
       "        <td>0.0.0.0</td>\n",
       "        <td>Campeneac</td>\n",
       "        <td>Morbihan</td>\n",
       "        <td>France</td>\n",
       "        <td></td>\n",
       "        <td></td>\n",
       "        <td></td>\n",
       "        <td>cf58dcfd-0683-487c-bc84-048789bca8e5</td>\n",
       "        <td>FabrikamProd</td>\n",
       "        <td>5a2e4e0c-e136-4a15-9824-90ba859b0a89</td>\n",
       "        <td>javascript:1.0.8</td>\n",
       "        <td>0869e2c0-31ff-11ea-8aa6-f54163331feb</td>\n",
       "        <td>1</td>\n",
       "    </tr>\n",
       "</table>\n",
       "        </body>\n",
       "        </html>"
      ],
      "text/plain": [
       "<IPython.core.display.HTML object>"
      ]
     },
     "metadata": {},
     "output_type": "display_data"
    },
    {
     "data": {
      "text/html": [
       "<html>\n",
       "        <head>\n",
       "        \n",
       "        </head>\n",
       "        <body>\n",
       "        <div><p style='padding: 10px; color: #3a87ad; background-color: #d9edf7; border-color: #bce9f1'>Done&nbsp;(00:01.629):&nbsp;3&nbsp;records</p></div>\n",
       "        </body>\n",
       "        </html>"
      ],
      "text/plain": [
       "<IPython.core.display.HTML object>"
      ]
     },
     "metadata": {},
     "output_type": "display_data"
    },
    {
     "data": {
      "text/html": [],
      "text/plain": [
       "[{'timestamp': datetime.datetime(2020, 1, 8, 10, 10, 0, 25249, tzinfo=tzutc()), 'name': 'Clicked Assign Ticket Button', 'itemType': 'customEvent', 'customDimensions': None, 'customMeasurements': None, 'operation_Name': '/', 'operation_Id': 'uE/2I', 'operation_ParentId': 'uE/2I', 'operation_SyntheticSource': '', 'session_Id': '37ueM', 'user_Id': 'ahj00', 'user_AuthenticatedId': '', 'user_AccountId': '', 'application_Version': '1.3.2', 'client_Type': 'Browser', 'client_Model': '', 'client_OS': 'Windows 10', 'client_IP': '0.0.0.0', 'client_City': 'Bothell', 'client_StateOrProvince': 'Washington', 'client_CountryOrRegion': 'United States', 'client_Browser': '', 'cloud_RoleName': '', 'cloud_RoleInstance': '', 'appId': 'cf58dcfd-0683-487c-bc84-048789bca8e5', 'appName': 'FabrikamProd', 'iKey': '5a2e4e0c-e136-4a15-9824-90ba859b0a89', 'sdkVersion': 'javascript:1.0.8', 'itemId': '086268b0-31ff-11ea-9ef2-879d9c87a3c6', 'itemCount': 1},\n",
       " {'timestamp': datetime.datetime(2020, 1, 8, 10, 0, 0, 25249, tzinfo=tzutc()), 'name': 'Clicked Create New Ticket Button', 'itemType': 'customEvent', 'customDimensions': None, 'customMeasurements': None, 'operation_Name': '/', 'operation_Id': 'u4hJX', 'operation_ParentId': 'u4hJX', 'operation_SyntheticSource': '', 'session_Id': 'nLNnu', 'user_Id': 'a4g00', 'user_AuthenticatedId': '', 'user_AccountId': '', 'application_Version': '1.2.5', 'client_Type': 'Browser', 'client_Model': '', 'client_OS': 'Ubuntu', 'client_IP': '0.0.0.0', 'client_City': 'Bothell', 'client_StateOrProvince': 'Washington', 'client_CountryOrRegion': 'United States', 'client_Browser': '', 'cloud_RoleName': '', 'cloud_RoleInstance': '', 'appId': 'cf58dcfd-0683-487c-bc84-048789bca8e5', 'appName': 'FabrikamProd', 'iKey': '5a2e4e0c-e136-4a15-9824-90ba859b0a89', 'sdkVersion': 'javascript:1.0.8', 'itemId': '086241a0-31ff-11ea-90b5-abd7ae200409', 'itemCount': 1},\n",
       " {'timestamp': datetime.datetime(2020, 1, 8, 10, 10, 0, 634645, tzinfo=tzutc()), 'name': 'Clicked Create New Ticket Button', 'itemType': 'customEvent', 'customDimensions': None, 'customMeasurements': None, 'operation_Name': '/', 'operation_Id': 'qKCwN', 'operation_ParentId': 'qKCwN', 'operation_SyntheticSource': '', 'session_Id': '5RDaa', 'user_Id': 'cJA00', 'user_AuthenticatedId': '', 'user_AccountId': '', 'application_Version': '1.2.6', 'client_Type': 'Browser', 'client_Model': '', 'client_OS': 'Windows 10', 'client_IP': '0.0.0.0', 'client_City': 'Campeneac', 'client_StateOrProvince': 'Morbihan', 'client_CountryOrRegion': 'France', 'client_Browser': '', 'cloud_RoleName': '', 'cloud_RoleInstance': '', 'appId': 'cf58dcfd-0683-487c-bc84-048789bca8e5', 'appName': 'FabrikamProd', 'iKey': '5a2e4e0c-e136-4a15-9824-90ba859b0a89', 'sdkVersion': 'javascript:1.0.8', 'itemId': '0869e2c0-31ff-11ea-8aa6-f54163331feb', 'itemCount': 1}]"
      ]
     },
     "execution_count": 84,
     "metadata": {},
     "output_type": "execute_result"
    }
   ],
   "source": [
    "%%kql\n",
    "customEvents\n",
    "|limit 3"
   ]
  },
  {
   "cell_type": "markdown",
   "metadata": {},
   "source": [
    "<h2 align='center'>=======================================================================<br>Another PUBLIC Dataset (with Azure Data Explorer)</h2>"
   ]
  },
  {
   "cell_type": "markdown",
   "metadata": {},
   "source": [
    "**NOTE:** The link to the Web interface is https://dataexplorer.azure.com/. After authenticating it will forward to https://dataexplorer.azure.com/clusters/help/databases/Samples"
   ]
  },
  {
   "cell_type": "code",
   "execution_count": 108,
   "metadata": {},
   "outputs": [],
   "source": [
    "%kql azureDataExplorer://code;cluster='help';database='Samples' "
   ]
  },
  {
   "cell_type": "markdown",
   "metadata": {},
   "source": [
    "It also connects with %kql kusto://code;cluster='help';database='Samples'"
   ]
  },
  {
   "cell_type": "code",
   "execution_count": 115,
   "metadata": {},
   "outputs": [
    {
     "data": {
      "text/html": [
       "<html>\n",
       "        <head>\n",
       "        \n",
       "        </head>\n",
       "        <body>\n",
       "        <div><p style='padding: 10px; color: #3a87ad; background-color: #d9edf7; border-color: #bce9f1'>&nbsp;&nbsp;&nbsp;7b67a32d-7c90-46f7-8392-7f4c8a784a35@loganalytics<br>&nbsp;&nbsp;&nbsp;DEMO_APP@applicationinsights<br>&nbsp;&nbsp;&nbsp;Demo@DemoLogsBlade<br>&nbsp;&nbsp;&nbsp;Samples@help</p></div>\n",
       "        </body>\n",
       "        </html>"
      ],
      "text/plain": [
       "<IPython.core.display.HTML object>"
      ]
     },
     "metadata": {},
     "output_type": "display_data"
    },
    {
     "data": {
      "text/html": [
       "<html>\n",
       "        <head>\n",
       "        \n",
       "        </head>\n",
       "        <body>\n",
       "        <table>\n",
       "    <tr>\n",
       "        <th>TableName</th>\n",
       "        <th>DatabaseName</th>\n",
       "        <th>Folder</th>\n",
       "        <th>DocString</th>\n",
       "    </tr>\n",
       "    <tr>\n",
       "        <td>StormEvents</td>\n",
       "        <td>Samples</td>\n",
       "        <td>None</td>\n",
       "        <td>None</td>\n",
       "    </tr>\n",
       "    <tr>\n",
       "        <td>demo_make_series1</td>\n",
       "        <td>Samples</td>\n",
       "        <td>DemoSeries</td>\n",
       "        <td>None</td>\n",
       "    </tr>\n",
       "    <tr>\n",
       "        <td>demo_series2</td>\n",
       "        <td>Samples</td>\n",
       "        <td>DemoSeries</td>\n",
       "        <td>None</td>\n",
       "    </tr>\n",
       "    <tr>\n",
       "        <td>demo_series3</td>\n",
       "        <td>Samples</td>\n",
       "        <td>DemoSeries</td>\n",
       "        <td>None</td>\n",
       "    </tr>\n",
       "    <tr>\n",
       "        <td>demo_many_series1</td>\n",
       "        <td>Samples</td>\n",
       "        <td>DemoSeries</td>\n",
       "        <td>None</td>\n",
       "    </tr>\n",
       "    <tr>\n",
       "        <td>ConferenceSessions</td>\n",
       "        <td>Samples</td>\n",
       "        <td>None</td>\n",
       "        <td>None</td>\n",
       "    </tr>\n",
       "    <tr>\n",
       "        <td>demo_make_series2</td>\n",
       "        <td>Samples</td>\n",
       "        <td>DemoSeries</td>\n",
       "        <td>None</td>\n",
       "    </tr>\n",
       "    <tr>\n",
       "        <td>demo_clustering1</td>\n",
       "        <td>Samples</td>\n",
       "        <td>DemoSeries</td>\n",
       "        <td>None</td>\n",
       "    </tr>\n",
       "</table>\n",
       "        </body>\n",
       "        </html>"
      ],
      "text/plain": [
       "<IPython.core.display.HTML object>"
      ]
     },
     "metadata": {},
     "output_type": "display_data"
    },
    {
     "data": {
      "text/html": [
       "<html>\n",
       "        <head>\n",
       "        \n",
       "        </head>\n",
       "        <body>\n",
       "        <div><p style='padding: 10px; color: #3a87ad; background-color: #d9edf7; border-color: #bce9f1'>Done&nbsp;(00:01.152):&nbsp;8&nbsp;records</p></div>\n",
       "        </body>\n",
       "        </html>"
      ],
      "text/plain": [
       "<IPython.core.display.HTML object>"
      ]
     },
     "metadata": {},
     "output_type": "display_data"
    },
    {
     "data": {
      "text/html": [],
      "text/plain": [
       "[{'TableName': 'StormEvents', 'DatabaseName': 'Samples', 'Folder': None, 'DocString': None},\n",
       " {'TableName': 'demo_make_series1', 'DatabaseName': 'Samples', 'Folder': 'DemoSeries', 'DocString': None},\n",
       " {'TableName': 'demo_series2', 'DatabaseName': 'Samples', 'Folder': 'DemoSeries', 'DocString': None},\n",
       " {'TableName': 'demo_series3', 'DatabaseName': 'Samples', 'Folder': 'DemoSeries', 'DocString': None},\n",
       " {'TableName': 'demo_many_series1', 'DatabaseName': 'Samples', 'Folder': 'DemoSeries', 'DocString': None},\n",
       " {'TableName': 'ConferenceSessions', 'DatabaseName': 'Samples', 'Folder': None, 'DocString': None},\n",
       " {'TableName': 'demo_make_series2', 'DatabaseName': 'Samples', 'Folder': 'DemoSeries', 'DocString': None},\n",
       " {'TableName': 'demo_clustering1', 'DatabaseName': 'Samples', 'Folder': 'DemoSeries', 'DocString': None}]"
      ]
     },
     "execution_count": 115,
     "metadata": {},
     "output_type": "execute_result"
    }
   ],
   "source": [
    "%kql .show tables"
   ]
  },
  {
   "cell_type": "code",
   "execution_count": 121,
   "metadata": {},
   "outputs": [
    {
     "data": {
      "text/plain": [
       "'Samples@help'"
      ]
     },
     "execution_count": 121,
     "metadata": {},
     "output_type": "execute_result"
    }
   ],
   "source": [
    "_kql_raw_result_.connection"
   ]
  },
  {
   "cell_type": "code",
   "execution_count": 81,
   "metadata": {},
   "outputs": [
    {
     "data": {
      "text/html": [
       "<html>\n",
       "        <head>\n",
       "        \n",
       "        </head>\n",
       "        <body>\n",
       "        <div><p style='padding: 10px; color: #3a87ad; background-color: #d9edf7; border-color: #bce9f1'>&nbsp;&nbsp;&nbsp;7b67a32d-7c90-46f7-8392-7f4c8a784a35@loganalytics<br>&nbsp;&nbsp;&nbsp;DEMO_APP@applicationinsights<br>&nbsp;&nbsp;&nbsp;Demo@DemoLogsBlade<br>&nbsp;&nbsp;&nbsp;Samples@help</p></div>\n",
       "        </body>\n",
       "        </html>"
      ],
      "text/plain": [
       "<IPython.core.display.HTML object>"
      ]
     },
     "metadata": {},
     "output_type": "display_data"
    },
    {
     "data": {
      "text/html": [
       "<html>\n",
       "        <head>\n",
       "        \n",
       "        </head>\n",
       "        <body>\n",
       "        <table>\n",
       "    <tr>\n",
       "        <th>State</th>\n",
       "        <th>count_</th>\n",
       "    </tr>\n",
       "    <tr>\n",
       "        <td>TEXAS</td>\n",
       "        <td>4701</td>\n",
       "    </tr>\n",
       "    <tr>\n",
       "        <td>KANSAS</td>\n",
       "        <td>3166</td>\n",
       "    </tr>\n",
       "    <tr>\n",
       "        <td>IOWA</td>\n",
       "        <td>2337</td>\n",
       "    </tr>\n",
       "    <tr>\n",
       "        <td>ILLINOIS</td>\n",
       "        <td>2022</td>\n",
       "    </tr>\n",
       "    <tr>\n",
       "        <td>MISSOURI</td>\n",
       "        <td>2016</td>\n",
       "    </tr>\n",
       "    <tr>\n",
       "        <td>GEORGIA</td>\n",
       "        <td>1983</td>\n",
       "    </tr>\n",
       "    <tr>\n",
       "        <td>MINNESOTA</td>\n",
       "        <td>1881</td>\n",
       "    </tr>\n",
       "    <tr>\n",
       "        <td>WISCONSIN</td>\n",
       "        <td>1850</td>\n",
       "    </tr>\n",
       "    <tr>\n",
       "        <td>NEBRASKA</td>\n",
       "        <td>1766</td>\n",
       "    </tr>\n",
       "    <tr>\n",
       "        <td>NEW YORK</td>\n",
       "        <td>1750</td>\n",
       "    </tr>\n",
       "</table>\n",
       "        </body>\n",
       "        </html>"
      ],
      "text/plain": [
       "<IPython.core.display.HTML object>"
      ]
     },
     "metadata": {},
     "output_type": "display_data"
    },
    {
     "data": {
      "text/html": [
       "<html>\n",
       "        <head>\n",
       "        \n",
       "        </head>\n",
       "        <body>\n",
       "        <div><p style='padding: 10px; color: #3a87ad; background-color: #d9edf7; border-color: #bce9f1'>Done&nbsp;(00:01.962):&nbsp;10&nbsp;records</p></div>\n",
       "        </body>\n",
       "        </html>"
      ],
      "text/plain": [
       "<IPython.core.display.HTML object>"
      ]
     },
     "metadata": {},
     "output_type": "display_data"
    },
    {
     "data": {
      "text/html": [],
      "text/plain": [
       "[{'State': 'TEXAS', 'count_': 4701},\n",
       " {'State': 'KANSAS', 'count_': 3166},\n",
       " {'State': 'IOWA', 'count_': 2337},\n",
       " {'State': 'ILLINOIS', 'count_': 2022},\n",
       " {'State': 'MISSOURI', 'count_': 2016},\n",
       " {'State': 'GEORGIA', 'count_': 1983},\n",
       " {'State': 'MINNESOTA', 'count_': 1881},\n",
       " {'State': 'WISCONSIN', 'count_': 1850},\n",
       " {'State': 'NEBRASKA', 'count_': 1766},\n",
       " {'State': 'NEW YORK', 'count_': 1750}]"
      ]
     },
     "execution_count": 81,
     "metadata": {},
     "output_type": "execute_result"
    }
   ],
   "source": [
    "%%kql \n",
    "StormEvents \n",
    "| summarize count() by State \n",
    "| sort by count_ \n",
    "| limit 10 "
   ]
  },
  {
   "cell_type": "code",
   "execution_count": 117,
   "metadata": {},
   "outputs": [],
   "source": [
    "storm_events = %kql StormEvents | project StartTime, State, StormSummary | limit 3"
   ]
  },
  {
   "cell_type": "code",
   "execution_count": 119,
   "metadata": {},
   "outputs": [
    {
     "data": {
      "text/plain": [
       "pandas.core.frame.DataFrame"
      ]
     },
     "execution_count": 119,
     "metadata": {},
     "output_type": "execute_result"
    }
   ],
   "source": [
    "type(storm_events.to_dataframe())"
   ]
  },
  {
   "cell_type": "markdown",
   "metadata": {},
   "source": [
    "### Converting the Results to dataframe"
   ]
  },
  {
   "cell_type": "code",
   "execution_count": 68,
   "metadata": {},
   "outputs": [
    {
     "data": {
      "text/html": [
       "<div>\n",
       "<style scoped>\n",
       "    .dataframe tbody tr th:only-of-type {\n",
       "        vertical-align: middle;\n",
       "    }\n",
       "\n",
       "    .dataframe tbody tr th {\n",
       "        vertical-align: top;\n",
       "    }\n",
       "\n",
       "    .dataframe thead th {\n",
       "        text-align: right;\n",
       "    }\n",
       "</style>\n",
       "<table border=\"1\" class=\"dataframe\">\n",
       "  <thead>\n",
       "    <tr style=\"text-align: right;\">\n",
       "      <th></th>\n",
       "      <th>State</th>\n",
       "      <th>count_</th>\n",
       "    </tr>\n",
       "  </thead>\n",
       "  <tbody>\n",
       "    <tr>\n",
       "      <th>0</th>\n",
       "      <td>TEXAS</td>\n",
       "      <td>4701</td>\n",
       "    </tr>\n",
       "    <tr>\n",
       "      <th>1</th>\n",
       "      <td>KANSAS</td>\n",
       "      <td>3166</td>\n",
       "    </tr>\n",
       "    <tr>\n",
       "      <th>2</th>\n",
       "      <td>IOWA</td>\n",
       "      <td>2337</td>\n",
       "    </tr>\n",
       "    <tr>\n",
       "      <th>3</th>\n",
       "      <td>ILLINOIS</td>\n",
       "      <td>2022</td>\n",
       "    </tr>\n",
       "    <tr>\n",
       "      <th>4</th>\n",
       "      <td>MISSOURI</td>\n",
       "      <td>2016</td>\n",
       "    </tr>\n",
       "  </tbody>\n",
       "</table>\n",
       "</div>"
      ],
      "text/plain": [
       "      State  count_\n",
       "0     TEXAS    4701\n",
       "1    KANSAS    3166\n",
       "2      IOWA    2337\n",
       "3  ILLINOIS    2022\n",
       "4  MISSOURI    2016"
      ]
     },
     "execution_count": 68,
     "metadata": {},
     "output_type": "execute_result"
    }
   ],
   "source": [
    "df = _kql_raw_result_.to_dataframe()\n",
    "df.head()"
   ]
  },
  {
   "cell_type": "markdown",
   "metadata": {},
   "source": [
    "### Querying and Rendering in KQL"
   ]
  },
  {
   "cell_type": "code",
   "execution_count": 71,
   "metadata": {},
   "outputs": [
    {
     "data": {
      "text/html": [
       "<html>\n",
       "        <head>\n",
       "        \n",
       "        </head>\n",
       "        <body>\n",
       "        <div><p style='padding: 10px; color: #3a87ad; background-color: #d9edf7; border-color: #bce9f1'>&nbsp;&nbsp;&nbsp;7b67a32d-7c90-46f7-8392-7f4c8a784a35@loganalytics<br>&nbsp;&nbsp;&nbsp;Samples@help</p></div>\n",
       "        </body>\n",
       "        </html>"
      ],
      "text/plain": [
       "<IPython.core.display.HTML object>"
      ]
     },
     "metadata": {},
     "output_type": "display_data"
    },
    {
     "data": {
      "application/vnd.plotly.v1+json": {
       "config": {
        "plotlyServerURL": "https://plot.ly"
       },
       "data": [
        {
         "domain": {
          "x": [
           0,
           1
          ],
          "y": [
           0,
           1
          ]
         },
         "labels": [
          "TEXAS",
          "KANSAS",
          "IOWA",
          "ILLINOIS",
          "MISSOURI",
          "GEORGIA",
          "MINNESOTA",
          "WISCONSIN",
          "NEBRASKA",
          "NEW YORK"
         ],
         "marker": {
          "colors": [
           "rgb(31, 118, 179)",
           "rgb(254, 127, 14)",
           "rgb(44, 160, 44)",
           "rgb(214, 39, 39)",
           "rgb(147, 102, 189)",
           "rgb(140, 86, 74)",
           "rgb(227, 119, 193)",
           "rgb(127, 127, 127)",
           "rgb(188, 189, 33)",
           "rgb(23, 189, 206)"
          ]
         },
         "name": "count_",
         "textinfo": "label+percent",
         "type": "pie",
         "values": [
          4701,
          3166,
          2337,
          2022,
          2016,
          1983,
          1881,
          1850,
          1766,
          1750
         ]
        }
       ],
       "layout": {
        "annotations": [
         {
          "showarrow": false,
          "text": "count_",
          "x": 0.5,
          "y": -0.05
         }
        ],
        "showlegend": true,
        "template": {
         "data": {
          "bar": [
           {
            "error_x": {
             "color": "#2a3f5f"
            },
            "error_y": {
             "color": "#2a3f5f"
            },
            "marker": {
             "line": {
              "color": "#E5ECF6",
              "width": 0.5
             }
            },
            "type": "bar"
           }
          ],
          "barpolar": [
           {
            "marker": {
             "line": {
              "color": "#E5ECF6",
              "width": 0.5
             }
            },
            "type": "barpolar"
           }
          ],
          "carpet": [
           {
            "aaxis": {
             "endlinecolor": "#2a3f5f",
             "gridcolor": "white",
             "linecolor": "white",
             "minorgridcolor": "white",
             "startlinecolor": "#2a3f5f"
            },
            "baxis": {
             "endlinecolor": "#2a3f5f",
             "gridcolor": "white",
             "linecolor": "white",
             "minorgridcolor": "white",
             "startlinecolor": "#2a3f5f"
            },
            "type": "carpet"
           }
          ],
          "choropleth": [
           {
            "colorbar": {
             "outlinewidth": 0,
             "ticks": ""
            },
            "type": "choropleth"
           }
          ],
          "contour": [
           {
            "colorbar": {
             "outlinewidth": 0,
             "ticks": ""
            },
            "colorscale": [
             [
              0,
              "#0d0887"
             ],
             [
              0.1111111111111111,
              "#46039f"
             ],
             [
              0.2222222222222222,
              "#7201a8"
             ],
             [
              0.3333333333333333,
              "#9c179e"
             ],
             [
              0.4444444444444444,
              "#bd3786"
             ],
             [
              0.5555555555555556,
              "#d8576b"
             ],
             [
              0.6666666666666666,
              "#ed7953"
             ],
             [
              0.7777777777777778,
              "#fb9f3a"
             ],
             [
              0.8888888888888888,
              "#fdca26"
             ],
             [
              1,
              "#f0f921"
             ]
            ],
            "type": "contour"
           }
          ],
          "contourcarpet": [
           {
            "colorbar": {
             "outlinewidth": 0,
             "ticks": ""
            },
            "type": "contourcarpet"
           }
          ],
          "heatmap": [
           {
            "colorbar": {
             "outlinewidth": 0,
             "ticks": ""
            },
            "colorscale": [
             [
              0,
              "#0d0887"
             ],
             [
              0.1111111111111111,
              "#46039f"
             ],
             [
              0.2222222222222222,
              "#7201a8"
             ],
             [
              0.3333333333333333,
              "#9c179e"
             ],
             [
              0.4444444444444444,
              "#bd3786"
             ],
             [
              0.5555555555555556,
              "#d8576b"
             ],
             [
              0.6666666666666666,
              "#ed7953"
             ],
             [
              0.7777777777777778,
              "#fb9f3a"
             ],
             [
              0.8888888888888888,
              "#fdca26"
             ],
             [
              1,
              "#f0f921"
             ]
            ],
            "type": "heatmap"
           }
          ],
          "heatmapgl": [
           {
            "colorbar": {
             "outlinewidth": 0,
             "ticks": ""
            },
            "colorscale": [
             [
              0,
              "#0d0887"
             ],
             [
              0.1111111111111111,
              "#46039f"
             ],
             [
              0.2222222222222222,
              "#7201a8"
             ],
             [
              0.3333333333333333,
              "#9c179e"
             ],
             [
              0.4444444444444444,
              "#bd3786"
             ],
             [
              0.5555555555555556,
              "#d8576b"
             ],
             [
              0.6666666666666666,
              "#ed7953"
             ],
             [
              0.7777777777777778,
              "#fb9f3a"
             ],
             [
              0.8888888888888888,
              "#fdca26"
             ],
             [
              1,
              "#f0f921"
             ]
            ],
            "type": "heatmapgl"
           }
          ],
          "histogram": [
           {
            "marker": {
             "colorbar": {
              "outlinewidth": 0,
              "ticks": ""
             }
            },
            "type": "histogram"
           }
          ],
          "histogram2d": [
           {
            "colorbar": {
             "outlinewidth": 0,
             "ticks": ""
            },
            "colorscale": [
             [
              0,
              "#0d0887"
             ],
             [
              0.1111111111111111,
              "#46039f"
             ],
             [
              0.2222222222222222,
              "#7201a8"
             ],
             [
              0.3333333333333333,
              "#9c179e"
             ],
             [
              0.4444444444444444,
              "#bd3786"
             ],
             [
              0.5555555555555556,
              "#d8576b"
             ],
             [
              0.6666666666666666,
              "#ed7953"
             ],
             [
              0.7777777777777778,
              "#fb9f3a"
             ],
             [
              0.8888888888888888,
              "#fdca26"
             ],
             [
              1,
              "#f0f921"
             ]
            ],
            "type": "histogram2d"
           }
          ],
          "histogram2dcontour": [
           {
            "colorbar": {
             "outlinewidth": 0,
             "ticks": ""
            },
            "colorscale": [
             [
              0,
              "#0d0887"
             ],
             [
              0.1111111111111111,
              "#46039f"
             ],
             [
              0.2222222222222222,
              "#7201a8"
             ],
             [
              0.3333333333333333,
              "#9c179e"
             ],
             [
              0.4444444444444444,
              "#bd3786"
             ],
             [
              0.5555555555555556,
              "#d8576b"
             ],
             [
              0.6666666666666666,
              "#ed7953"
             ],
             [
              0.7777777777777778,
              "#fb9f3a"
             ],
             [
              0.8888888888888888,
              "#fdca26"
             ],
             [
              1,
              "#f0f921"
             ]
            ],
            "type": "histogram2dcontour"
           }
          ],
          "mesh3d": [
           {
            "colorbar": {
             "outlinewidth": 0,
             "ticks": ""
            },
            "type": "mesh3d"
           }
          ],
          "parcoords": [
           {
            "line": {
             "colorbar": {
              "outlinewidth": 0,
              "ticks": ""
             }
            },
            "type": "parcoords"
           }
          ],
          "pie": [
           {
            "automargin": true,
            "type": "pie"
           }
          ],
          "scatter": [
           {
            "marker": {
             "colorbar": {
              "outlinewidth": 0,
              "ticks": ""
             }
            },
            "type": "scatter"
           }
          ],
          "scatter3d": [
           {
            "line": {
             "colorbar": {
              "outlinewidth": 0,
              "ticks": ""
             }
            },
            "marker": {
             "colorbar": {
              "outlinewidth": 0,
              "ticks": ""
             }
            },
            "type": "scatter3d"
           }
          ],
          "scattercarpet": [
           {
            "marker": {
             "colorbar": {
              "outlinewidth": 0,
              "ticks": ""
             }
            },
            "type": "scattercarpet"
           }
          ],
          "scattergeo": [
           {
            "marker": {
             "colorbar": {
              "outlinewidth": 0,
              "ticks": ""
             }
            },
            "type": "scattergeo"
           }
          ],
          "scattergl": [
           {
            "marker": {
             "colorbar": {
              "outlinewidth": 0,
              "ticks": ""
             }
            },
            "type": "scattergl"
           }
          ],
          "scattermapbox": [
           {
            "marker": {
             "colorbar": {
              "outlinewidth": 0,
              "ticks": ""
             }
            },
            "type": "scattermapbox"
           }
          ],
          "scatterpolar": [
           {
            "marker": {
             "colorbar": {
              "outlinewidth": 0,
              "ticks": ""
             }
            },
            "type": "scatterpolar"
           }
          ],
          "scatterpolargl": [
           {
            "marker": {
             "colorbar": {
              "outlinewidth": 0,
              "ticks": ""
             }
            },
            "type": "scatterpolargl"
           }
          ],
          "scatterternary": [
           {
            "marker": {
             "colorbar": {
              "outlinewidth": 0,
              "ticks": ""
             }
            },
            "type": "scatterternary"
           }
          ],
          "surface": [
           {
            "colorbar": {
             "outlinewidth": 0,
             "ticks": ""
            },
            "colorscale": [
             [
              0,
              "#0d0887"
             ],
             [
              0.1111111111111111,
              "#46039f"
             ],
             [
              0.2222222222222222,
              "#7201a8"
             ],
             [
              0.3333333333333333,
              "#9c179e"
             ],
             [
              0.4444444444444444,
              "#bd3786"
             ],
             [
              0.5555555555555556,
              "#d8576b"
             ],
             [
              0.6666666666666666,
              "#ed7953"
             ],
             [
              0.7777777777777778,
              "#fb9f3a"
             ],
             [
              0.8888888888888888,
              "#fdca26"
             ],
             [
              1,
              "#f0f921"
             ]
            ],
            "type": "surface"
           }
          ],
          "table": [
           {
            "cells": {
             "fill": {
              "color": "#EBF0F8"
             },
             "line": {
              "color": "white"
             }
            },
            "header": {
             "fill": {
              "color": "#C8D4E3"
             },
             "line": {
              "color": "white"
             }
            },
            "type": "table"
           }
          ]
         },
         "layout": {
          "annotationdefaults": {
           "arrowcolor": "#2a3f5f",
           "arrowhead": 0,
           "arrowwidth": 1
          },
          "coloraxis": {
           "colorbar": {
            "outlinewidth": 0,
            "ticks": ""
           }
          },
          "colorscale": {
           "diverging": [
            [
             0,
             "#8e0152"
            ],
            [
             0.1,
             "#c51b7d"
            ],
            [
             0.2,
             "#de77ae"
            ],
            [
             0.3,
             "#f1b6da"
            ],
            [
             0.4,
             "#fde0ef"
            ],
            [
             0.5,
             "#f7f7f7"
            ],
            [
             0.6,
             "#e6f5d0"
            ],
            [
             0.7,
             "#b8e186"
            ],
            [
             0.8,
             "#7fbc41"
            ],
            [
             0.9,
             "#4d9221"
            ],
            [
             1,
             "#276419"
            ]
           ],
           "sequential": [
            [
             0,
             "#0d0887"
            ],
            [
             0.1111111111111111,
             "#46039f"
            ],
            [
             0.2222222222222222,
             "#7201a8"
            ],
            [
             0.3333333333333333,
             "#9c179e"
            ],
            [
             0.4444444444444444,
             "#bd3786"
            ],
            [
             0.5555555555555556,
             "#d8576b"
            ],
            [
             0.6666666666666666,
             "#ed7953"
            ],
            [
             0.7777777777777778,
             "#fb9f3a"
            ],
            [
             0.8888888888888888,
             "#fdca26"
            ],
            [
             1,
             "#f0f921"
            ]
           ],
           "sequentialminus": [
            [
             0,
             "#0d0887"
            ],
            [
             0.1111111111111111,
             "#46039f"
            ],
            [
             0.2222222222222222,
             "#7201a8"
            ],
            [
             0.3333333333333333,
             "#9c179e"
            ],
            [
             0.4444444444444444,
             "#bd3786"
            ],
            [
             0.5555555555555556,
             "#d8576b"
            ],
            [
             0.6666666666666666,
             "#ed7953"
            ],
            [
             0.7777777777777778,
             "#fb9f3a"
            ],
            [
             0.8888888888888888,
             "#fdca26"
            ],
            [
             1,
             "#f0f921"
            ]
           ]
          },
          "colorway": [
           "#636efa",
           "#EF553B",
           "#00cc96",
           "#ab63fa",
           "#FFA15A",
           "#19d3f3",
           "#FF6692",
           "#B6E880",
           "#FF97FF",
           "#FECB52"
          ],
          "font": {
           "color": "#2a3f5f"
          },
          "geo": {
           "bgcolor": "white",
           "lakecolor": "white",
           "landcolor": "#E5ECF6",
           "showlakes": true,
           "showland": true,
           "subunitcolor": "white"
          },
          "hoverlabel": {
           "align": "left"
          },
          "hovermode": "closest",
          "mapbox": {
           "style": "light"
          },
          "paper_bgcolor": "white",
          "plot_bgcolor": "#E5ECF6",
          "polar": {
           "angularaxis": {
            "gridcolor": "white",
            "linecolor": "white",
            "ticks": ""
           },
           "bgcolor": "#E5ECF6",
           "radialaxis": {
            "gridcolor": "white",
            "linecolor": "white",
            "ticks": ""
           }
          },
          "scene": {
           "xaxis": {
            "backgroundcolor": "#E5ECF6",
            "gridcolor": "white",
            "gridwidth": 2,
            "linecolor": "white",
            "showbackground": true,
            "ticks": "",
            "zerolinecolor": "white"
           },
           "yaxis": {
            "backgroundcolor": "#E5ECF6",
            "gridcolor": "white",
            "gridwidth": 2,
            "linecolor": "white",
            "showbackground": true,
            "ticks": "",
            "zerolinecolor": "white"
           },
           "zaxis": {
            "backgroundcolor": "#E5ECF6",
            "gridcolor": "white",
            "gridwidth": 2,
            "linecolor": "white",
            "showbackground": true,
            "ticks": "",
            "zerolinecolor": "white"
           }
          },
          "shapedefaults": {
           "line": {
            "color": "#2a3f5f"
           }
          },
          "ternary": {
           "aaxis": {
            "gridcolor": "white",
            "linecolor": "white",
            "ticks": ""
           },
           "baxis": {
            "gridcolor": "white",
            "linecolor": "white",
            "ticks": ""
           },
           "bgcolor": "#E5ECF6",
           "caxis": {
            "gridcolor": "white",
            "linecolor": "white",
            "ticks": ""
           }
          },
          "title": {
           "x": 0.05
          },
          "xaxis": {
           "automargin": true,
           "gridcolor": "white",
           "linecolor": "white",
           "ticks": "",
           "title": {
            "standoff": 15
           },
           "zerolinecolor": "white",
           "zerolinewidth": 2
          },
          "yaxis": {
           "automargin": true,
           "gridcolor": "white",
           "linecolor": "white",
           "ticks": "",
           "title": {
            "standoff": 15
           },
           "zerolinecolor": "white",
           "zerolinewidth": 2
          }
         }
        },
        "title": {
         "text": "Trend"
        }
       }
      },
      "text/html": [
       "<div>\n",
       "        \n",
       "        \n",
       "            <div id=\"4dd3d82e-6205-41cf-8240-3e1f50441edc\" class=\"plotly-graph-div\" style=\"height:525px; width:100%;\"></div>\n",
       "            <script type=\"text/javascript\">\n",
       "                require([\"plotly\"], function(Plotly) {\n",
       "                    window.PLOTLYENV=window.PLOTLYENV || {};\n",
       "                    \n",
       "                if (document.getElementById(\"4dd3d82e-6205-41cf-8240-3e1f50441edc\")) {\n",
       "                    Plotly.newPlot(\n",
       "                        '4dd3d82e-6205-41cf-8240-3e1f50441edc',\n",
       "                        [{\"domain\": {\"x\": [0.0, 1.0], \"y\": [0.0, 1.0]}, \"labels\": [\"TEXAS\", \"KANSAS\", \"IOWA\", \"ILLINOIS\", \"MISSOURI\", \"GEORGIA\", \"MINNESOTA\", \"WISCONSIN\", \"NEBRASKA\", \"NEW YORK\"], \"marker\": {\"colors\": [\"rgb(31, 118, 179)\", \"rgb(254, 127, 14)\", \"rgb(44, 160, 44)\", \"rgb(214, 39, 39)\", \"rgb(147, 102, 189)\", \"rgb(140, 86, 74)\", \"rgb(227, 119, 193)\", \"rgb(127, 127, 127)\", \"rgb(188, 189, 33)\", \"rgb(23, 189, 206)\"]}, \"name\": \"count_\", \"textinfo\": \"label+percent\", \"type\": \"pie\", \"values\": [4701, 3166, 2337, 2022, 2016, 1983, 1881, 1850, 1766, 1750]}],\n",
       "                        {\"annotations\": [{\"showarrow\": false, \"text\": \"count_\", \"x\": 0.5, \"y\": -0.05}], \"showlegend\": true, \"template\": {\"data\": {\"bar\": [{\"error_x\": {\"color\": \"#2a3f5f\"}, \"error_y\": {\"color\": \"#2a3f5f\"}, \"marker\": {\"line\": {\"color\": \"#E5ECF6\", \"width\": 0.5}}, \"type\": \"bar\"}], \"barpolar\": [{\"marker\": {\"line\": {\"color\": \"#E5ECF6\", \"width\": 0.5}}, \"type\": \"barpolar\"}], \"carpet\": [{\"aaxis\": {\"endlinecolor\": \"#2a3f5f\", \"gridcolor\": \"white\", \"linecolor\": \"white\", \"minorgridcolor\": \"white\", \"startlinecolor\": \"#2a3f5f\"}, \"baxis\": {\"endlinecolor\": \"#2a3f5f\", \"gridcolor\": \"white\", \"linecolor\": \"white\", \"minorgridcolor\": \"white\", \"startlinecolor\": \"#2a3f5f\"}, \"type\": \"carpet\"}], \"choropleth\": [{\"colorbar\": {\"outlinewidth\": 0, \"ticks\": \"\"}, \"type\": \"choropleth\"}], \"contour\": [{\"colorbar\": {\"outlinewidth\": 0, \"ticks\": \"\"}, \"colorscale\": [[0.0, \"#0d0887\"], [0.1111111111111111, \"#46039f\"], [0.2222222222222222, \"#7201a8\"], [0.3333333333333333, \"#9c179e\"], [0.4444444444444444, \"#bd3786\"], [0.5555555555555556, \"#d8576b\"], [0.6666666666666666, \"#ed7953\"], [0.7777777777777778, \"#fb9f3a\"], [0.8888888888888888, \"#fdca26\"], [1.0, \"#f0f921\"]], \"type\": \"contour\"}], \"contourcarpet\": [{\"colorbar\": {\"outlinewidth\": 0, \"ticks\": \"\"}, \"type\": \"contourcarpet\"}], \"heatmap\": [{\"colorbar\": {\"outlinewidth\": 0, \"ticks\": \"\"}, \"colorscale\": [[0.0, \"#0d0887\"], [0.1111111111111111, \"#46039f\"], [0.2222222222222222, \"#7201a8\"], [0.3333333333333333, \"#9c179e\"], [0.4444444444444444, \"#bd3786\"], [0.5555555555555556, \"#d8576b\"], [0.6666666666666666, \"#ed7953\"], [0.7777777777777778, \"#fb9f3a\"], [0.8888888888888888, \"#fdca26\"], [1.0, \"#f0f921\"]], \"type\": \"heatmap\"}], \"heatmapgl\": [{\"colorbar\": {\"outlinewidth\": 0, \"ticks\": \"\"}, \"colorscale\": [[0.0, \"#0d0887\"], [0.1111111111111111, \"#46039f\"], [0.2222222222222222, \"#7201a8\"], [0.3333333333333333, \"#9c179e\"], [0.4444444444444444, \"#bd3786\"], [0.5555555555555556, \"#d8576b\"], [0.6666666666666666, \"#ed7953\"], [0.7777777777777778, \"#fb9f3a\"], [0.8888888888888888, \"#fdca26\"], [1.0, \"#f0f921\"]], \"type\": \"heatmapgl\"}], \"histogram\": [{\"marker\": {\"colorbar\": {\"outlinewidth\": 0, \"ticks\": \"\"}}, \"type\": \"histogram\"}], \"histogram2d\": [{\"colorbar\": {\"outlinewidth\": 0, \"ticks\": \"\"}, \"colorscale\": [[0.0, \"#0d0887\"], [0.1111111111111111, \"#46039f\"], [0.2222222222222222, \"#7201a8\"], [0.3333333333333333, \"#9c179e\"], [0.4444444444444444, \"#bd3786\"], [0.5555555555555556, \"#d8576b\"], [0.6666666666666666, \"#ed7953\"], [0.7777777777777778, \"#fb9f3a\"], [0.8888888888888888, \"#fdca26\"], [1.0, \"#f0f921\"]], \"type\": \"histogram2d\"}], \"histogram2dcontour\": [{\"colorbar\": {\"outlinewidth\": 0, \"ticks\": \"\"}, \"colorscale\": [[0.0, \"#0d0887\"], [0.1111111111111111, \"#46039f\"], [0.2222222222222222, \"#7201a8\"], [0.3333333333333333, \"#9c179e\"], [0.4444444444444444, \"#bd3786\"], [0.5555555555555556, \"#d8576b\"], [0.6666666666666666, \"#ed7953\"], [0.7777777777777778, \"#fb9f3a\"], [0.8888888888888888, \"#fdca26\"], [1.0, \"#f0f921\"]], \"type\": \"histogram2dcontour\"}], \"mesh3d\": [{\"colorbar\": {\"outlinewidth\": 0, \"ticks\": \"\"}, \"type\": \"mesh3d\"}], \"parcoords\": [{\"line\": {\"colorbar\": {\"outlinewidth\": 0, \"ticks\": \"\"}}, \"type\": \"parcoords\"}], \"pie\": [{\"automargin\": true, \"type\": \"pie\"}], \"scatter\": [{\"marker\": {\"colorbar\": {\"outlinewidth\": 0, \"ticks\": \"\"}}, \"type\": \"scatter\"}], \"scatter3d\": [{\"line\": {\"colorbar\": {\"outlinewidth\": 0, \"ticks\": \"\"}}, \"marker\": {\"colorbar\": {\"outlinewidth\": 0, \"ticks\": \"\"}}, \"type\": \"scatter3d\"}], \"scattercarpet\": [{\"marker\": {\"colorbar\": {\"outlinewidth\": 0, \"ticks\": \"\"}}, \"type\": \"scattercarpet\"}], \"scattergeo\": [{\"marker\": {\"colorbar\": {\"outlinewidth\": 0, \"ticks\": \"\"}}, \"type\": \"scattergeo\"}], \"scattergl\": [{\"marker\": {\"colorbar\": {\"outlinewidth\": 0, \"ticks\": \"\"}}, \"type\": \"scattergl\"}], \"scattermapbox\": [{\"marker\": {\"colorbar\": {\"outlinewidth\": 0, \"ticks\": \"\"}}, \"type\": \"scattermapbox\"}], \"scatterpolar\": [{\"marker\": {\"colorbar\": {\"outlinewidth\": 0, \"ticks\": \"\"}}, \"type\": \"scatterpolar\"}], \"scatterpolargl\": [{\"marker\": {\"colorbar\": {\"outlinewidth\": 0, \"ticks\": \"\"}}, \"type\": \"scatterpolargl\"}], \"scatterternary\": [{\"marker\": {\"colorbar\": {\"outlinewidth\": 0, \"ticks\": \"\"}}, \"type\": \"scatterternary\"}], \"surface\": [{\"colorbar\": {\"outlinewidth\": 0, \"ticks\": \"\"}, \"colorscale\": [[0.0, \"#0d0887\"], [0.1111111111111111, \"#46039f\"], [0.2222222222222222, \"#7201a8\"], [0.3333333333333333, \"#9c179e\"], [0.4444444444444444, \"#bd3786\"], [0.5555555555555556, \"#d8576b\"], [0.6666666666666666, \"#ed7953\"], [0.7777777777777778, \"#fb9f3a\"], [0.8888888888888888, \"#fdca26\"], [1.0, \"#f0f921\"]], \"type\": \"surface\"}], \"table\": [{\"cells\": {\"fill\": {\"color\": \"#EBF0F8\"}, \"line\": {\"color\": \"white\"}}, \"header\": {\"fill\": {\"color\": \"#C8D4E3\"}, \"line\": {\"color\": \"white\"}}, \"type\": \"table\"}]}, \"layout\": {\"annotationdefaults\": {\"arrowcolor\": \"#2a3f5f\", \"arrowhead\": 0, \"arrowwidth\": 1}, \"coloraxis\": {\"colorbar\": {\"outlinewidth\": 0, \"ticks\": \"\"}}, \"colorscale\": {\"diverging\": [[0, \"#8e0152\"], [0.1, \"#c51b7d\"], [0.2, \"#de77ae\"], [0.3, \"#f1b6da\"], [0.4, \"#fde0ef\"], [0.5, \"#f7f7f7\"], [0.6, \"#e6f5d0\"], [0.7, \"#b8e186\"], [0.8, \"#7fbc41\"], [0.9, \"#4d9221\"], [1, \"#276419\"]], \"sequential\": [[0.0, \"#0d0887\"], [0.1111111111111111, \"#46039f\"], [0.2222222222222222, \"#7201a8\"], [0.3333333333333333, \"#9c179e\"], [0.4444444444444444, \"#bd3786\"], [0.5555555555555556, \"#d8576b\"], [0.6666666666666666, \"#ed7953\"], [0.7777777777777778, \"#fb9f3a\"], [0.8888888888888888, \"#fdca26\"], [1.0, \"#f0f921\"]], \"sequentialminus\": [[0.0, \"#0d0887\"], [0.1111111111111111, \"#46039f\"], [0.2222222222222222, \"#7201a8\"], [0.3333333333333333, \"#9c179e\"], [0.4444444444444444, \"#bd3786\"], [0.5555555555555556, \"#d8576b\"], [0.6666666666666666, \"#ed7953\"], [0.7777777777777778, \"#fb9f3a\"], [0.8888888888888888, \"#fdca26\"], [1.0, \"#f0f921\"]]}, \"colorway\": [\"#636efa\", \"#EF553B\", \"#00cc96\", \"#ab63fa\", \"#FFA15A\", \"#19d3f3\", \"#FF6692\", \"#B6E880\", \"#FF97FF\", \"#FECB52\"], \"font\": {\"color\": \"#2a3f5f\"}, \"geo\": {\"bgcolor\": \"white\", \"lakecolor\": \"white\", \"landcolor\": \"#E5ECF6\", \"showlakes\": true, \"showland\": true, \"subunitcolor\": \"white\"}, \"hoverlabel\": {\"align\": \"left\"}, \"hovermode\": \"closest\", \"mapbox\": {\"style\": \"light\"}, \"paper_bgcolor\": \"white\", \"plot_bgcolor\": \"#E5ECF6\", \"polar\": {\"angularaxis\": {\"gridcolor\": \"white\", \"linecolor\": \"white\", \"ticks\": \"\"}, \"bgcolor\": \"#E5ECF6\", \"radialaxis\": {\"gridcolor\": \"white\", \"linecolor\": \"white\", \"ticks\": \"\"}}, \"scene\": {\"xaxis\": {\"backgroundcolor\": \"#E5ECF6\", \"gridcolor\": \"white\", \"gridwidth\": 2, \"linecolor\": \"white\", \"showbackground\": true, \"ticks\": \"\", \"zerolinecolor\": \"white\"}, \"yaxis\": {\"backgroundcolor\": \"#E5ECF6\", \"gridcolor\": \"white\", \"gridwidth\": 2, \"linecolor\": \"white\", \"showbackground\": true, \"ticks\": \"\", \"zerolinecolor\": \"white\"}, \"zaxis\": {\"backgroundcolor\": \"#E5ECF6\", \"gridcolor\": \"white\", \"gridwidth\": 2, \"linecolor\": \"white\", \"showbackground\": true, \"ticks\": \"\", \"zerolinecolor\": \"white\"}}, \"shapedefaults\": {\"line\": {\"color\": \"#2a3f5f\"}}, \"ternary\": {\"aaxis\": {\"gridcolor\": \"white\", \"linecolor\": \"white\", \"ticks\": \"\"}, \"baxis\": {\"gridcolor\": \"white\", \"linecolor\": \"white\", \"ticks\": \"\"}, \"bgcolor\": \"#E5ECF6\", \"caxis\": {\"gridcolor\": \"white\", \"linecolor\": \"white\", \"ticks\": \"\"}}, \"title\": {\"x\": 0.05}, \"xaxis\": {\"automargin\": true, \"gridcolor\": \"white\", \"linecolor\": \"white\", \"ticks\": \"\", \"title\": {\"standoff\": 15}, \"zerolinecolor\": \"white\", \"zerolinewidth\": 2}, \"yaxis\": {\"automargin\": true, \"gridcolor\": \"white\", \"linecolor\": \"white\", \"ticks\": \"\", \"title\": {\"standoff\": 15}, \"zerolinecolor\": \"white\", \"zerolinewidth\": 2}}}, \"title\": {\"text\": \"Trend\"}},\n",
       "                        {\"responsive\": true}\n",
       "                    ).then(function(){\n",
       "                            \n",
       "var gd = document.getElementById('4dd3d82e-6205-41cf-8240-3e1f50441edc');\n",
       "var x = new MutationObserver(function (mutations, observer) {{\n",
       "        var display = window.getComputedStyle(gd).display;\n",
       "        if (!display || display === 'none') {{\n",
       "            console.log([gd, 'removed!']);\n",
       "            Plotly.purge(gd);\n",
       "            observer.disconnect();\n",
       "        }}\n",
       "}});\n",
       "\n",
       "// Listen for the removal of the full notebook cells\n",
       "var notebookContainer = gd.closest('#notebook-container');\n",
       "if (notebookContainer) {{\n",
       "    x.observe(notebookContainer, {childList: true});\n",
       "}}\n",
       "\n",
       "// Listen for the clearing of the current output cell\n",
       "var outputEl = gd.closest('.output');\n",
       "if (outputEl) {{\n",
       "    x.observe(outputEl, {childList: true});\n",
       "}}\n",
       "\n",
       "                        })\n",
       "                };\n",
       "                });\n",
       "            </script>\n",
       "        </div>"
      ]
     },
     "metadata": {},
     "output_type": "display_data"
    },
    {
     "data": {
      "text/html": [
       "<html>\n",
       "        <head>\n",
       "        \n",
       "        </head>\n",
       "        <body>\n",
       "        <div><p style='padding: 10px; color: #3a87ad; background-color: #d9edf7; border-color: #bce9f1'>Done&nbsp;(00:00.514):&nbsp;10&nbsp;records</p></div>\n",
       "        </body>\n",
       "        </html>"
      ],
      "text/plain": [
       "<IPython.core.display.HTML object>"
      ]
     },
     "metadata": {},
     "output_type": "display_data"
    },
    {
     "data": {
      "text/html": [],
      "text/plain": [
       "[{'State': 'TEXAS', 'count_': 4701},\n",
       " {'State': 'KANSAS', 'count_': 3166},\n",
       " {'State': 'IOWA', 'count_': 2337},\n",
       " {'State': 'ILLINOIS', 'count_': 2022},\n",
       " {'State': 'MISSOURI', 'count_': 2016},\n",
       " {'State': 'GEORGIA', 'count_': 1983},\n",
       " {'State': 'MINNESOTA', 'count_': 1881},\n",
       " {'State': 'WISCONSIN', 'count_': 1850},\n",
       " {'State': 'NEBRASKA', 'count_': 1766},\n",
       " {'State': 'NEW YORK', 'count_': 1750}]"
      ]
     },
     "execution_count": 71,
     "metadata": {},
     "output_type": "execute_result"
    }
   ],
   "source": [
    "%%kql \n",
    "StormEvents \n",
    "| summarize count() by State \n",
    "| sort by count_ \n",
    "| limit 10 \n",
    "| render piechart title = \"Trend\""
   ]
  },
  {
   "cell_type": "markdown",
   "metadata": {},
   "source": [
    "<h2 align='center'>=======================================================================<br>Accessing a PRIVATE Log Analytics Workspace</h2>"
   ]
  },
  {
   "cell_type": "markdown",
   "metadata": {},
   "source": [
    "To access a Private Log Analytics Workspace you should do the following steps (in the tenant+workspace that you want to access):\n",
    "1.  Create an Azure AD application https://docs.microsoft.com/en-us/azure/active-directory/develop/howto-create-service-principal-portal\n",
    "2. Give RBAC access to (subscription level or resource group level or resource level) -> Sentinel Reader\n",
    "3. Create a new client secret (https://webfiles.blackbaud.com/files/support/helpfiles/bbid/content/auth-azure-app-key.html) or an certificate\n",
    "\n",
    "After those 3 steps are achieved you can follow the next steps to connect to the workspace and have fun!"
   ]
  },
  {
   "cell_type": "markdown",
   "metadata": {},
   "source": [
    "### Connecting to the Log Analytics workspace via the Azure AD App"
   ]
  },
  {
   "cell_type": "code",
   "execution_count": 140,
   "metadata": {},
   "outputs": [],
   "source": [
    "tenant_id=\"\\'<HERE>\\'\" #playground (tenant id)\n",
    "aad_appid=\"\\'<HERE>\\'\"  # aad -> app\n",
    "aad_appkey=\"\\'<HERE>\\'\" # aad -> app -> certificates & secrets -> client secrets\n",
    "workspace_id=\"\\'<HERE>\\'\" #loganalytics/sentinel -> choose workspace \n",
    "workspace_friendly_name=\"\\'<HERE>\\'\""
   ]
  },
  {
   "cell_type": "code",
   "execution_count": 123,
   "metadata": {},
   "outputs": [],
   "source": [
    "%kql loganalytics://tenant=$tenant_id;clientid=$aad_appid;clientsecret=$aad_appkey;workspace=$workspace_id;alias=$workspace_friendly_name"
   ]
  },
  {
   "cell_type": "markdown",
   "metadata": {},
   "source": [
    "### Running Queries"
   ]
  },
  {
   "cell_type": "code",
   "execution_count": 136,
   "metadata": {},
   "outputs": [],
   "source": [
    "azureactivity = %kql AzureActivity |limit 100"
   ]
  },
  {
   "cell_type": "code",
   "execution_count": 137,
   "metadata": {},
   "outputs": [],
   "source": [
    "df = azureactivity.to_dataframe()"
   ]
  },
  {
   "cell_type": "code",
   "execution_count": 138,
   "metadata": {},
   "outputs": [
    {
     "data": {
      "text/plain": [
       "10"
      ]
     },
     "execution_count": 138,
     "metadata": {},
     "output_type": "execute_result"
    }
   ],
   "source": [
    "len(df)"
   ]
  },
  {
   "cell_type": "code",
   "execution_count": null,
   "metadata": {},
   "outputs": [],
   "source": [
    "df['CallerIpAddress'].value_counts()"
   ]
  },
  {
   "cell_type": "markdown",
   "metadata": {},
   "source": [
    "## List of TOR nodes"
   ]
  },
  {
   "cell_type": "code",
   "execution_count": null,
   "metadata": {},
   "outputs": [],
   "source": [
    "torlist = pd.read_csv('https://www.dan.me.uk/torlist',header=0,names=[\"DestinationIp\"])"
   ]
  },
  {
   "cell_type": "code",
   "execution_count": null,
   "metadata": {},
   "outputs": [],
   "source": [
    "torlist.head()"
   ]
  }
 ],
 "metadata": {
  "kernelspec": {
   "display_name": "Python 3",
   "language": "python",
   "name": "python3"
  },
  "language_info": {
   "codemirror_mode": {
    "name": "ipython",
    "version": 3
   },
   "file_extension": ".py",
   "mimetype": "text/x-python",
   "name": "python",
   "nbconvert_exporter": "python",
   "pygments_lexer": "ipython3",
   "version": "3.7.6"
  }
 },
 "nbformat": 4,
 "nbformat_minor": 2
}
